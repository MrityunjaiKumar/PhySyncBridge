{
  "cells": [
    {
      "cell_type": "code",
      "execution_count": null,
      "metadata": {
        "collapsed": false
      },
      "outputs": [],
      "source": [
        "%matplotlib inline"
      ]
    },
    {
      "cell_type": "markdown",
      "metadata": {},
      "source": [
        "\noscilloscope\n==================================\n\nThis oscilloscope example code grabs data from PhyCom and plot it in realTime\n"
      ]
    },
    {
      "cell_type": "code",
      "execution_count": null,
      "metadata": {
        "collapsed": false
      },
      "outputs": [],
      "source": [
        "from phySyncFirmata.phyCom.peripherals import Version1_pinouts as pins\nfrom phySyncFirmata.phyCom.common_Utility import RealtimePlotWindow\n\nfrom phySyncFirmata import ArduinoNano\n\n'''This function will print all the peripheral pinouts'''\n#pins.print_pinouts()\n\n'''Get the pin number for respective peripherals'''\n#print(pins.Ac_relay)\n\nboard = ArduinoNano('COM8')\n\n# Create an instance of an animated scrolling window\n# To plot more channels just create more instances and add callback handlers below\nrealtimePlotWindow = RealtimePlotWindow()\n\n# sampling rate: 1000Hz\nsamplingRate = 100\n\n# called for every new sample which has arrived from the Arduino\ndef callBack(data):\n    # send the sample to the plotwindow\n    realtimePlotWindow.addData(data)\n\n# Set the sampling rate in the Arduino\nboard.samplingOn(1000 / samplingRate)\n\n# Register the callback which adds the data to the animated plot\nboard.analog[pins.Pot_1].register_callback(callBack)\n\n# Enable the callback\nboard.analog[pins.Pot_1].enable_reporting()\nrealtimePlotWindow.show()"
      ]
    }
  ],
  "metadata": {
    "kernelspec": {
      "display_name": "Python 3",
      "language": "python",
      "name": "python3"
    },
    "language_info": {
      "codemirror_mode": {
        "name": "ipython",
        "version": 3
      },
      "file_extension": ".py",
      "mimetype": "text/x-python",
      "name": "python",
      "nbconvert_exporter": "python",
      "pygments_lexer": "ipython3",
      "version": "3.7.3"
    }
  },
  "nbformat": 4,
  "nbformat_minor": 0
}