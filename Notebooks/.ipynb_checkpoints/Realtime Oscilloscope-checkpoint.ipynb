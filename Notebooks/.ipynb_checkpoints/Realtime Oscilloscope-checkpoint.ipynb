{
 "cells": [
  {
   "cell_type": "code",
   "execution_count": null,
   "metadata": {},
   "outputs": [],
   "source": [
    "import config "
   ]
  },
  {
   "cell_type": "code",
   "execution_count": null,
   "metadata": {},
   "outputs": [],
   "source": [
    "'''\n",
    "Lets print all the variable for the pinouts on board\n",
    "'''\n",
    "def get_variable_module_name(module_name):\n",
    "    module = globals().get(module_name, None)\n",
    "    variable = {}\n",
    "    if module:\n",
    "        variable = {key: value for key, value in module.__dict__.iteritems() if not (key.startswith('__') or key.startswith('_'))}\n",
    "    return variable\n",
    "\n",
    "variable = get_variable_module_name('config')\n",
    "for key, value in variable.iteritems():\n",
    "    print \"{:<20}{:<10}\".format(key, value)"
   ]
  },
  {
   "cell_type": "code",
   "execution_count": null,
   "metadata": {},
   "outputs": [],
   "source": [
    "from phySyncFirmata import ArduinoNano\n",
    "import phySyncFirmata"
   ]
  },
  {
   "cell_type": "code",
   "execution_count": null,
   "metadata": {},
   "outputs": [],
   "source": [
    "%matplotlib notebook\n",
    "import numpy as np\n",
    "import matplotlib.pyplot as plt\n",
    "import matplotlib.animation as animation"
   ]
  },
  {
   "cell_type": "code",
   "execution_count": null,
   "metadata": {
    "scrolled": true
   },
   "outputs": [],
   "source": [
    "board = ArduinoNano('/dev/ttyUSB0')"
   ]
  },
  {
   "cell_type": "code",
   "execution_count": null,
   "metadata": {},
   "outputs": [],
   "source": [
    "# Creates a scrolling data display\n",
    "class RealtimePlotWindow:\n",
    "\n",
    "    def __init__(self):\n",
    "        # create a plot window\n",
    "        self.fig, self.ax = plt.subplots()\n",
    "        # that's our plotbuffer\n",
    "        self.plotbuffer = np.zeros(500)\n",
    "        # create an empty line\n",
    "        self.line, = self.ax.plot(self.plotbuffer)\n",
    "        # axis\n",
    "        self.ax.set_ylim(0, 1)\n",
    "        # That's our ringbuffer which accumluates the samples\n",
    "        # It's emptied every time when the plot window below\n",
    "        # does a repaint\n",
    "        self.ringbuffer = []\n",
    "        # start the animation\n",
    "        self.ani = animation.FuncAnimation(self.fig, self.update, interval=100)\n",
    "\n",
    "    # updates the plot\n",
    "    def update(self, data):\n",
    "        # add new data to the buffer\n",
    "        self.plotbuffer = np.append(self.plotbuffer, self.ringbuffer)\n",
    "        # only keep the 500 newest ones and discard the old ones\n",
    "        self.plotbuffer = self.plotbuffer[-500:]\n",
    "        self.ringbuffer = []\n",
    "        # set the new 500 points of channel 9\n",
    "        self.line.set_ydata(self.plotbuffer)\n",
    "        return self.line,\n",
    "\n",
    "    # appends data to the ringbuffer\n",
    "    def addData(self, v):\n",
    "        self.ringbuffer.append(v)"
   ]
  },
  {
   "cell_type": "code",
   "execution_count": null,
   "metadata": {},
   "outputs": [],
   "source": [
    "# Create an instance of an animated scrolling window\n",
    "# To plot more channels just create more instances and add callback handlers below\n",
    "realtimePlotWindow = RealtimePlotWindow()\n",
    "\n",
    "# sampling rate: 1000Hz\n",
    "samplingRate = 100"
   ]
  },
  {
   "cell_type": "code",
   "execution_count": null,
   "metadata": {},
   "outputs": [],
   "source": [
    "# called for every new sample which has arrived from the Arduino\n",
    "def callBack(data):\n",
    "    # send the sample to the plotwindow\n",
    "    realtimePlotWindow.addData(data)\n"
   ]
  },
  {
   "cell_type": "code",
   "execution_count": null,
   "metadata": {},
   "outputs": [],
   "source": [
    "# Set the sampling rate in the Arduino\n",
    "board.samplingOn(1000 / samplingRate)\n",
    "\n",
    "# Register the callback which adds the data to the animated plot\n",
    "board.analog[2].register_callback(callBack)\n",
    "\n",
    "# Enable the callback\n",
    "board.analog[2].enable_reporting()\n",
    "\n",
    "# show the plot and start the animation\n",
    "plt.show()"
   ]
  },
  {
   "cell_type": "code",
   "execution_count": null,
   "metadata": {},
   "outputs": [],
   "source": [
    "# needs to be called to close the serial port\n",
    "board.exit()\n",
    "\n",
    "print(\"finished\")\n"
   ]
  }
 ],
 "metadata": {
  "kernelspec": {
   "display_name": "PhySyncEnv",
   "language": "python",
   "name": "physyncenv"
  },
  "language_info": {
   "codemirror_mode": {
    "name": "ipython",
    "version": 2
   },
   "file_extension": ".py",
   "mimetype": "text/x-python",
   "name": "python",
   "nbconvert_exporter": "python",
   "pygments_lexer": "ipython2",
   "version": "2.7.15+"
  }
 },
 "nbformat": 4,
 "nbformat_minor": 2
}
