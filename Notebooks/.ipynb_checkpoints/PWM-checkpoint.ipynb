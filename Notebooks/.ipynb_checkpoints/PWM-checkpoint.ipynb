{
 "cells": [
  {
   "cell_type": "code",
   "execution_count": 1,
   "metadata": {},
   "outputs": [],
   "source": [
    "import config "
   ]
  },
  {
   "cell_type": "code",
   "execution_count": 2,
   "metadata": {},
   "outputs": [
    {
     "name": "stdout",
     "output_type": "stream",
     "text": [
      "Buzzer              5         \n",
      "Hall_effect_2       0         \n",
      "Hall_effect_1       1         \n",
      "R_led               10        \n",
      "LDR                 5         \n",
      "Sw                  3         \n",
      "Ac                  8         \n",
      "B_led               6         \n",
      "Pot_1               2         \n",
      "G_led               9         \n",
      "Pir                 2         \n",
      "Pot_2               3         \n",
      "Temp_1              6         \n",
      "Pot_3               4         \n",
      "Temp_2              7         \n"
     ]
    }
   ],
   "source": [
    "'''\n",
    "Lets print all the variable for the pinouts on board\n",
    "'''\n",
    "def get_variable_module_name(module_name):\n",
    "    module = globals().get(module_name, None)\n",
    "    variable = {}\n",
    "    if module:\n",
    "        variable = {key: value for key, value in module.__dict__.iteritems() if not (key.startswith('__') or key.startswith('_'))}\n",
    "    return variable\n",
    "\n",
    "variable = get_variable_module_name('config')\n",
    "for key, value in variable.iteritems():\n",
    "    print \"{:<20}{:<10}\".format(key, value)"
   ]
  },
  {
   "cell_type": "code",
   "execution_count": 3,
   "metadata": {},
   "outputs": [],
   "source": [
    "from phySyncFirmata import ArduinoNano\n",
    "import phySyncFirmata"
   ]
  },
  {
   "cell_type": "code",
   "execution_count": 4,
   "metadata": {},
   "outputs": [],
   "source": [
    "board = ArduinoNano('/dev/ttyUSB0')"
   ]
  },
  {
   "cell_type": "code",
   "execution_count": 5,
   "metadata": {},
   "outputs": [],
   "source": [
    "board.digital[config.R_led].write(1)\n",
    "board.digital[config.G_led].write(1)"
   ]
  },
  {
   "cell_type": "code",
   "execution_count": 6,
   "metadata": {},
   "outputs": [],
   "source": [
    "led = board.get_pin(\"d:\"+str(config.B_led)+\":p\")"
   ]
  },
  {
   "cell_type": "code",
   "execution_count": 7,
   "metadata": {},
   "outputs": [],
   "source": [
    "DELAY = 0.5\n",
    "brightness = 0"
   ]
  },
  {
   "cell_type": "code",
   "execution_count": 8,
   "metadata": {},
   "outputs": [
    {
     "name": "stdout",
     "output_type": "stream",
     "text": [
      "Setting brightness to 0.1\n",
      "Setting brightness to 0.2\n",
      "Setting brightness to 0.3\n",
      "Setting brightness to 0.4\n",
      "Setting brightness to 0.5\n",
      "Setting brightness to 0.6\n",
      "Setting brightness to 0.7\n",
      "Setting brightness to 0.8\n",
      "Setting brightness to 0.9\n",
      "Setting brightness to 1.0\n"
     ]
    }
   ],
   "source": [
    "# decrease\n",
    "for i in range(0, 10):\n",
    "    brightness = brightness + 0.1\n",
    "    print \"Setting brightness to %s\" % brightness\n",
    "    led.write(brightness)\n",
    "    board.pass_time(DELAY)"
   ]
  },
  {
   "cell_type": "code",
   "execution_count": 9,
   "metadata": {},
   "outputs": [
    {
     "name": "stdout",
     "output_type": "stream",
     "text": [
      "Setting brightness to 1.0\n",
      "Setting brightness to 0.9\n",
      "Setting brightness to 0.8\n",
      "Setting brightness to 0.7\n",
      "Setting brightness to 0.6\n",
      "Setting brightness to 0.5\n",
      "Setting brightness to 0.4\n",
      "Setting brightness to 0.3\n",
      "Setting brightness to 0.2\n",
      "Setting brightness to 0.1\n"
     ]
    }
   ],
   "source": [
    "# increase\n",
    "for i in range(0, 10):\n",
    "    print \"Setting brightness to %s\" % brightness\n",
    "    led.write(brightness) \n",
    "    brightness = brightness - 0.1       \n",
    "    board.pass_time(DELAY)"
   ]
  },
  {
   "cell_type": "code",
   "execution_count": null,
   "metadata": {},
   "outputs": [],
   "source": [
    "import time\n",
    "while True:\n",
    "    for i in range(0, 10):\n",
    "        brightness = brightness + 0.1\n",
    "        print \"Setting brightness to %s\" % brightness\n",
    "        led.write(brightness)\n",
    "        board.pass_time(DELAY)\n",
    "    time.sleep(1)\n",
    "    # increase\n",
    "    for i in range(0, 10):\n",
    "        print \"Setting brightness to %s\" % brightness\n",
    "        led.write(brightness) \n",
    "        brightness = brightness - 0.1       \n",
    "        board.pass_time(DELAY)"
   ]
  },
  {
   "cell_type": "code",
   "execution_count": null,
   "metadata": {},
   "outputs": [],
   "source": []
  }
 ],
 "metadata": {
  "kernelspec": {
   "display_name": "PhySyncEnv",
   "language": "python",
   "name": "physyncenv"
  },
  "language_info": {
   "codemirror_mode": {
    "name": "ipython",
    "version": 2
   },
   "file_extension": ".py",
   "mimetype": "text/x-python",
   "name": "python",
   "nbconvert_exporter": "python",
   "pygments_lexer": "ipython2",
   "version": "2.7.15+"
  }
 },
 "nbformat": 4,
 "nbformat_minor": 2
}
