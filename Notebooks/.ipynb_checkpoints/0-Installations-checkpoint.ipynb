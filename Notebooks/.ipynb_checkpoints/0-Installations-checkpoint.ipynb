{
 "cells": [
  {
   "cell_type": "markdown",
   "metadata": {},
   "source": [
    "# Installing Jupyter"
   ]
  },
  {
   "cell_type": "markdown",
   "metadata": {},
   "source": [
    "Jupyter is a free, open-source, interactive web tool known as a computational notebook, which researchers can use to combine software code, computational output, explanatory text and multimedia resources in a single document.\n",
    "\n",
    "Computational notebooks have been around for decades, but Jupyter in particular has exploded in popularity over the past couple of years. \n",
    "\n",
    "This rapid uptake has been aided by an enthusiastic community of user–developers and a redesigned architecture that allows the notebook to speak dozens of programming languages — a fact reflected in its name, which was inspired, according to co-founder Fernando Pérez, by the programming languages Julia (Ju), Python (Py) and R.\n",
    "\n",
    "<pre>pip install -U jupyter</pre>\n",
    "\n",
    "## virtualenv is a tool to create isolated Python environments. \n",
    "\n",
    "virtualenv is a useful tool that creates isolated Python development environments where you can do all your development work. Suppose you come across a new Python library that you'd like to try. If you install it system-wide, there is the risk of messing up other libraries that you might have installed. Instead, use virtualenv to create a sandbox, where you can install and use the library without affecting the rest of your system. You can keep using this sandbox for ongoing development work, or you can simply delete it once you've finished using it. Either way, your system remains organized and clutter-free.\n",
    "\n",
    "<pre>\n",
    "virtualenv PhySyncEnv\n",
    "\n",
    "\n",
    "source PhySyncEnv/bin/activate\n",
    "\n",
    "\n",
    "pip install ipykernel\n",
    "\n",
    "\n",
    "python -m ipykernel install --user --name=PhySyncEnv</pre>"
   ]
  },
  {
   "cell_type": "markdown",
   "metadata": {},
   "source": [
    "# Resources\n",
    "\n",
    "* [http://fosshelp.blogspot.com/2017/08/how-to-add-python-virtualenv-to-ipython.html](http://fosshelp.blogspot.com/2017/08/how-to-add-python-virtualenv-to-ipython.html)\n",
    "\n",
    "* [https://docs.python-guide.org/dev/virtualenvs/](https://docs.python-guide.org/dev/virtualenvs/)\n",
    "\n",
    "* [https://anbasile.github.io/programming/2017/06/25/jupyter-venv/](https://anbasile.github.io/programming/2017/06/25/jupyter-venv/)\n",
    "\n",
    "* [https://gist.github.com/AnnaGerber/26decdf2aa53150f7515](https://gist.github.com/AnnaGerber/26decdf2aa53150f7515)\n",
    "\n",
    "* [https://www.dataquest.io/blog/jupyter-notebook-tips-tricks-shortcuts/](https://www.dataquest.io/blog/jupyter-notebook-tips-tricks-shortcuts/)\n",
    "\n",
    "* [https://github.com/unpingco/Python-for-Signal-Processing](https://github.com/unpingco/Python-for-Signal-Processing)"
   ]
  }
 ],
 "metadata": {
  "kernelspec": {
   "display_name": "PhySyncEnv",
   "language": "python",
   "name": "physyncenv"
  },
  "language_info": {
   "codemirror_mode": {
    "name": "ipython",
    "version": 2
   },
   "file_extension": ".py",
   "mimetype": "text/x-python",
   "name": "python",
   "nbconvert_exporter": "python",
   "pygments_lexer": "ipython2",
   "version": "2.7.15+"
  }
 },
 "nbformat": 4,
 "nbformat_minor": 2
}
