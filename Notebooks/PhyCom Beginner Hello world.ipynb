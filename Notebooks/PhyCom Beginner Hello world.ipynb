{
 "cells": [
  {
   "cell_type": "code",
   "execution_count": 1,
   "metadata": {},
   "outputs": [],
   "source": [
    "# this is our python library version of firmata\n",
    "import phySyncFirmata "
   ]
  },
  {
   "cell_type": "code",
   "execution_count": 3,
   "metadata": {},
   "outputs": [],
   "source": [
    "# seleting a board\n",
    "from phySyncFirmata import ArduinoNano\n"
   ]
  },
  {
   "cell_type": "code",
   "execution_count": 4,
   "metadata": {},
   "outputs": [],
   "source": [
    "# selecting the port \n",
    "board = ArduinoNano('COM37')"
   ]
  },
  {
   "cell_type": "code",
   "execution_count": 21,
   "metadata": {},
   "outputs": [],
   "source": [
    "#make all pins low\n",
    "\n",
    "# all leds\n",
    "for pin in range(2,10):\n",
    "    board.digital[pin].write(1)\n",
    "\n",
    "# buzzer\n",
    "board.digital[12].write(1)\n"
   ]
  },
  {
   "cell_type": "markdown",
   "metadata": {},
   "source": [
    "# Led On Off Example"
   ]
  },
  {
   "cell_type": "code",
   "execution_count": 19,
   "metadata": {},
   "outputs": [],
   "source": [
    "#turn off led\n",
    "board.digital[2].write(1)"
   ]
  },
  {
   "cell_type": "code",
   "execution_count": 20,
   "metadata": {},
   "outputs": [],
   "source": [
    "#turn on led\n",
    "board.digital[2].write(0)"
   ]
  },
  {
   "cell_type": "markdown",
   "metadata": {},
   "source": [
    "# Get switch data"
   ]
  },
  {
   "cell_type": "code",
   "execution_count": 22,
   "metadata": {},
   "outputs": [],
   "source": [
    "from IPython.display import clear_output, display"
   ]
  },
  {
   "cell_type": "code",
   "execution_count": 27,
   "metadata": {},
   "outputs": [],
   "source": [
    "board.samplingOn()\n",
    "digital_0 = board.get_pin('d:10:i')\n",
    "digital_0.enable_reporting()"
   ]
  },
  {
   "cell_type": "code",
   "execution_count": null,
   "metadata": {},
   "outputs": [],
   "source": [
    "import time\n"
   ]
  },
  {
   "cell_type": "code",
   "execution_count": null,
   "metadata": {},
   "outputs": [
    {
     "name": "stdout",
     "output_type": "stream",
     "text": [
      "True\n",
      "Button not pressed\n"
     ]
    }
   ],
   "source": [
    "while True:\n",
    "    starttime=time.time()\n",
    "    clear_output(wait=True)\n",
    "    print(digital_0.read())\n",
    "    stoptime=time.time()\n",
    "    if str(digital_0.read()) == 'False':\n",
    "        print(\"Button pressed\")\n",
    "    elif str(digital_0.read()) == 'True':\n",
    "        print(\"Button not pressed\")\n",
    "    else:\n",
    "        print(\"Button has never been pressed\")\n",
    "    board.pass_time(0.1)"
   ]
  },
  {
   "cell_type": "markdown",
   "metadata": {},
   "source": [
    "# Glow led correponding to Pins"
   ]
  }
 ],
 "metadata": {
  "kernelspec": {
   "display_name": "PhySyncEnv",
   "language": "python",
   "name": "physyncenv"
  },
  "language_info": {
   "codemirror_mode": {
    "name": "ipython",
    "version": 3
   },
   "file_extension": ".py",
   "mimetype": "text/x-python",
   "name": "python",
   "nbconvert_exporter": "python",
   "pygments_lexer": "ipython3",
   "version": "3.7.3"
  }
 },
 "nbformat": 4,
 "nbformat_minor": 2
}
