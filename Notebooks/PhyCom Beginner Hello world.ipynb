{
 "cells": [
  {
   "cell_type": "code",
   "execution_count": 1,
   "metadata": {},
   "outputs": [],
   "source": [
    "# this is our python library version of firmata\n",
    "import phySyncFirmata "
   ]
  },
  {
   "cell_type": "code",
   "execution_count": 2,
   "metadata": {},
   "outputs": [],
   "source": [
    "# seleting a board\n",
    "from phySyncFirmata import ArduinoNano\n"
   ]
  },
  {
   "cell_type": "code",
   "execution_count": 3,
   "metadata": {},
   "outputs": [],
   "source": [
    "# selecting the port \n",
    "board = ArduinoNano('COM6')"
   ]
  },
  {
   "cell_type": "code",
   "execution_count": 4,
   "metadata": {},
   "outputs": [],
   "source": [
    "#make all pins low\n",
    "\n",
    "# all leds\n",
    "for pin in range(2,10):\n",
    "    board.digital[pin].write(1)\n",
    "\n",
    "# buzzer\n",
    "board.digital[12].write(1)\n"
   ]
  },
  {
   "cell_type": "markdown",
   "metadata": {},
   "source": [
    "# Led On Off Example"
   ]
  },
  {
   "cell_type": "code",
   "execution_count": null,
   "metadata": {},
   "outputs": [],
   "source": [
    "#turn off led\n",
    "board.digital[3].write(1)"
   ]
  },
  {
   "cell_type": "code",
   "execution_count": null,
   "metadata": {},
   "outputs": [],
   "source": [
    "#turn on led\n",
    "board.digital[3].write(0)"
   ]
  },
  {
   "cell_type": "markdown",
   "metadata": {},
   "source": [
    "# Get switch data"
   ]
  },
  {
   "cell_type": "code",
   "execution_count": 5,
   "metadata": {},
   "outputs": [],
   "source": [
    "from IPython.display import clear_output, display"
   ]
  },
  {
   "cell_type": "code",
   "execution_count": 7,
   "metadata": {},
   "outputs": [
    {
     "ename": "InvalidPinDefError",
     "evalue": "Invalid pin definition: d:16:i at position 3 on COM6",
     "output_type": "error",
     "traceback": [
      "\u001b[1;31m---------------------------------------------------------------------------\u001b[0m",
      "\u001b[1;31mInvalidPinDefError\u001b[0m                        Traceback (most recent call last)",
      "\u001b[1;32m<ipython-input-7-7e92c2c0aac5>\u001b[0m in \u001b[0;36m<module>\u001b[1;34m\u001b[0m\n\u001b[0;32m      8\u001b[0m \u001b[1;33m\u001b[0m\u001b[0m\n\u001b[0;32m      9\u001b[0m \u001b[1;32mfor\u001b[0m \u001b[0mkey\u001b[0m\u001b[1;33m,\u001b[0m \u001b[0mvalue\u001b[0m \u001b[1;32min\u001b[0m \u001b[0mButtons\u001b[0m\u001b[1;33m.\u001b[0m\u001b[0mitems\u001b[0m\u001b[1;33m(\u001b[0m\u001b[1;33m)\u001b[0m\u001b[1;33m:\u001b[0m\u001b[1;33m\u001b[0m\u001b[1;33m\u001b[0m\u001b[0m\n\u001b[1;32m---> 10\u001b[1;33m     \u001b[0mButton_obj_array\u001b[0m\u001b[1;33m.\u001b[0m\u001b[0mappend\u001b[0m\u001b[1;33m(\u001b[0m\u001b[0mboard\u001b[0m\u001b[1;33m.\u001b[0m\u001b[0mget_pin\u001b[0m\u001b[1;33m(\u001b[0m\u001b[1;34m'd:'\u001b[0m\u001b[1;33m+\u001b[0m\u001b[0mvalue\u001b[0m\u001b[1;33m+\u001b[0m\u001b[1;34m':i'\u001b[0m\u001b[1;33m)\u001b[0m\u001b[1;33m)\u001b[0m \u001b[1;31m# 'd'\u001b[0m\u001b[1;33m\u001b[0m\u001b[1;33m\u001b[0m\u001b[0m\n\u001b[0m\u001b[0;32m     11\u001b[0m \u001b[1;32mfor\u001b[0m \u001b[0melements\u001b[0m \u001b[1;32min\u001b[0m \u001b[0mButton_obj_array\u001b[0m\u001b[1;33m:\u001b[0m\u001b[1;33m\u001b[0m\u001b[1;33m\u001b[0m\u001b[0m\n\u001b[0;32m     12\u001b[0m     \u001b[0melements\u001b[0m\u001b[1;33m.\u001b[0m\u001b[0menable_reporting\u001b[0m\u001b[1;33m(\u001b[0m\u001b[1;33m)\u001b[0m\u001b[1;33m\u001b[0m\u001b[1;33m\u001b[0m\u001b[0m\n",
      "\u001b[1;32mc:\\python37\\lib\\site-packages\\physyncfirmata-3.0.2-py3.7.egg\\phySyncFirmata\\phySyncFirmata.py\u001b[0m in \u001b[0;36mget_pin\u001b[1;34m(self, pin_def)\u001b[0m\n\u001b[0;32m    262\u001b[0m         \u001b[1;32mif\u001b[0m \u001b[0mpin_nr\u001b[0m \u001b[1;33m>=\u001b[0m \u001b[0mlen\u001b[0m\u001b[1;33m(\u001b[0m\u001b[0mpart\u001b[0m\u001b[1;33m)\u001b[0m\u001b[1;33m:\u001b[0m\u001b[1;33m\u001b[0m\u001b[1;33m\u001b[0m\u001b[0m\n\u001b[0;32m    263\u001b[0m             raise InvalidPinDefError('Invalid pin definition: {0} at position 3 on {1}'\n\u001b[1;32m--> 264\u001b[1;33m                                      .format(pin_def, self.name))\n\u001b[0m\u001b[0;32m    265\u001b[0m         \u001b[1;32mif\u001b[0m \u001b[0mgetattr\u001b[0m\u001b[1;33m(\u001b[0m\u001b[0mpart\u001b[0m\u001b[1;33m[\u001b[0m\u001b[0mpin_nr\u001b[0m\u001b[1;33m]\u001b[0m\u001b[1;33m,\u001b[0m \u001b[1;34m'mode'\u001b[0m\u001b[1;33m,\u001b[0m \u001b[1;32mNone\u001b[0m\u001b[1;33m)\u001b[0m \u001b[1;33m==\u001b[0m \u001b[0mUNAVAILABLE\u001b[0m\u001b[1;33m:\u001b[0m\u001b[1;33m\u001b[0m\u001b[1;33m\u001b[0m\u001b[0m\n\u001b[0;32m    266\u001b[0m             raise InvalidPinDefError('Invalid pin definition: '\n",
      "\u001b[1;31mInvalidPinDefError\u001b[0m: Invalid pin definition: d:16:i at position 3 on COM6"
     ]
    }
   ],
   "source": [
    "board.samplingOn()\n",
    "# Buttons={'S1':'A2','S2':'A3','S3':'A4','S4':'A5','S5':'A6','S6':'A7','S7':'11','S8':'10'}\n",
    "Buttons={'S1':'16','S2':'17','S3':'18','S4':'19','S5':'20','S6':'21','S7':'11','S8':'10'}\n",
    "\n",
    "# Buttons={'S7':'11','S8':'10'}\n",
    "\n",
    "Button_obj_array=[]\n",
    "\n",
    "for key, value in Buttons.items():\n",
    "    Button_obj_array.append(board.get_pin('d:'+value+':i')) # 'd'\n",
    "for elements in Button_obj_array:\n",
    "    elements.enable_reporting()\n",
    "    \n",
    "# digital_0 = board.get_pin('d:10:i') # 'd'\n",
    "# digital_0.enable_reporting()\n",
    "\n",
    "while True:\n",
    "    clear_output(wait=True)\n",
    "    if (Button_obj_array[0].read()) == False:\n",
    "        print(\"Button1 pressed\")\n",
    "        start_time=time.time()\n",
    "        while (Button_obj_array[0].read() == False): \n",
    "            stop_time=time.time()\n",
    "        \n",
    "        print(\"Button Pressed\",stop_time-start_time)\n",
    "        time.sleep(3)\n",
    "    if (Button_obj_array[1].read()) == False:\n",
    "        print(\"Button2 pressed\")\n",
    "        start_time=time.time()\n",
    "        while (Button_obj_array[1].read() == False): \n",
    "            stop_time=time.time()\n",
    "        \n",
    "        print(\"Button Pressed\",stop_time-start_time)\n",
    "        time.sleep(3)\n",
    "        \n",
    " #   elif (Button_obj_array[0].read()) == True:\n",
    " #       print(\"Button Not Pressed\")\n",
    "    else:\n",
    "        print(\"Button has never been pressed\")\n",
    "    board.pass_time(0.1)"
   ]
  },
  {
   "cell_type": "code",
   "execution_count": 6,
   "metadata": {},
   "outputs": [],
   "source": [
    "import time\n"
   ]
  },
  {
   "cell_type": "code",
   "execution_count": null,
   "metadata": {},
   "outputs": [],
   "source": [
    "start_time=time.time()\n",
    "stop_time=time.time()\n",
    "while True:\n",
    "    \n",
    "    clear_output(wait=True)\n",
    "    print(digital_0.read())\n",
    "    \n",
    "    if (digital_0.read()) == False:\n",
    "        print(\"Button pressed\")\n",
    "        start_time=time.time()\n",
    "        while (digital_0.read() == False): \n",
    "            stop_time=time.time()\n",
    "        \n",
    "        print(\"Button Pressed\",stop_time-start_time)\n",
    "        time.sleep(3)\n",
    "        \n",
    "    elif (digital_0.read()) == True:\n",
    "        print(\"Button Not Pressed\")\n",
    "    else:\n",
    "        print(\"Button has never been pressed\")\n",
    "    board.pass_time(0.1)"
   ]
  },
  {
   "cell_type": "markdown",
   "metadata": {},
   "source": [
    "# Glow led correponding to Pins"
   ]
  },
  {
   "cell_type": "code",
   "execution_count": null,
   "metadata": {},
   "outputs": [],
   "source": [
    "board.exit()"
   ]
  },
  {
   "cell_type": "code",
   "execution_count": null,
   "metadata": {},
   "outputs": [],
   "source": []
  }
 ],
 "metadata": {
  "kernelspec": {
   "display_name": "Python 3",
   "language": "python",
   "name": "python3"
  },
  "language_info": {
   "codemirror_mode": {
    "name": "ipython",
    "version": 3
   },
   "file_extension": ".py",
   "mimetype": "text/x-python",
   "name": "python",
   "nbconvert_exporter": "python",
   "pygments_lexer": "ipython3",
   "version": "3.7.3"
  }
 },
 "nbformat": 4,
 "nbformat_minor": 2
}
