{
 "cells": [
  {
   "cell_type": "code",
   "execution_count": null,
   "metadata": {},
   "outputs": [],
   "source": [
    "from phySyncFirmata import ArduinoNano"
   ]
  },
  {
   "cell_type": "code",
   "execution_count": null,
   "metadata": {},
   "outputs": [],
   "source": [
    "board = ArduinoNano('/dev/ttyUSB0')"
   ]
  },
  {
   "cell_type": "code",
   "execution_count": null,
   "metadata": {},
   "outputs": [],
   "source": [
    "board.samplingOn()"
   ]
  },
  {
   "cell_type": "markdown",
   "metadata": {},
   "source": [
    ">If you use a pin more often, it can be worth it to use the get_pin method of the board. \n",
    "\n",
    ">It let’s you specify what pin you need by a string, composed of ‘a’ or ‘d’ (depending on wether you need an analog or digital pin), the pin number, and the mode (‘i’ for input, ‘o’ for output, ‘p’ for pwm). All seperated by :. Eg. a:0:i for analog 0 as input or d:3:p for digital pin 3 as pwm."
   ]
  },
  {
   "cell_type": "code",
   "execution_count": null,
   "metadata": {},
   "outputs": [],
   "source": [
    "digital_0 = board.get_pin('d:3:i')\n",
    "digital_0.enable_reporting()"
   ]
  },
  {
   "cell_type": "code",
   "execution_count": null,
   "metadata": {
    "scrolled": false
   },
   "outputs": [],
   "source": [
    "while (True):\n",
    "    if str(digital_0.read()) == 'False':\n",
    "        print(\"Button pressed\")\n",
    "    elif str(digital_0.read()) == 'True':\n",
    "        print(\"Button not pressed\")\n",
    "    else:\n",
    "        print(\"Button has never been pressed\")\n",
    "    board.pass_time(0.1)"
   ]
  },
  {
   "cell_type": "code",
   "execution_count": null,
   "metadata": {},
   "outputs": [],
   "source": [
    "board.exit()"
   ]
  }
 ],
 "metadata": {
  "kernelspec": {
   "display_name": "PhySyncEnv",
   "language": "python",
   "name": "physyncenv"
  },
  "language_info": {
   "codemirror_mode": {
    "name": "ipython",
    "version": 2
   },
   "file_extension": ".py",
   "mimetype": "text/x-python",
   "name": "python",
   "nbconvert_exporter": "python",
   "pygments_lexer": "ipython2",
   "version": "2.7.15+"
  }
 },
 "nbformat": 4,
 "nbformat_minor": 2
}
