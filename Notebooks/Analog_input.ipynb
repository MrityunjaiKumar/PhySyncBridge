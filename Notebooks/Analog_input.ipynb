{
 "cells": [
  {
   "cell_type": "code",
   "execution_count": null,
   "metadata": {},
   "outputs": [],
   "source": [
    "import config \n",
    "import time"
   ]
  },
  {
   "cell_type": "code",
   "execution_count": null,
   "metadata": {},
   "outputs": [],
   "source": [
    "'''\n",
    "Lets print all the variable for the pinouts on board\n",
    "'''\n",
    "def get_variable_module_name(module_name):\n",
    "    module = globals().get(module_name, None)\n",
    "    variable = {}\n",
    "    if module:\n",
    "        variable = {key: value for key, value in module.__dict__.iteritems() if not (key.startswith('__') or key.startswith('_'))}\n",
    "    return variable\n",
    "\n",
    "variable = get_variable_module_name('config')\n",
    "for key, value in variable.iteritems():\n",
    "    print \"{:<20}{:<10}\".format(key, value)"
   ]
  },
  {
   "cell_type": "code",
   "execution_count": null,
   "metadata": {},
   "outputs": [],
   "source": [
    "from phySyncFirmata import ArduinoNano\n",
    "import phySyncFirmata"
   ]
  },
  {
   "cell_type": "code",
   "execution_count": null,
   "metadata": {},
   "outputs": [],
   "source": [
    "board = ArduinoNano('/dev/ttyUSB0')"
   ]
  },
  {
   "cell_type": "code",
   "execution_count": null,
   "metadata": {},
   "outputs": [],
   "source": [
    "it = phySyncFirmata.util.Iterator(board)\n",
    "it.start()"
   ]
  },
  {
   "cell_type": "code",
   "execution_count": null,
   "metadata": {},
   "outputs": [],
   "source": [
    "board.analog[config.LDR].enable_reporting()"
   ]
  },
  {
   "cell_type": "code",
   "execution_count": null,
   "metadata": {
    "scrolled": false
   },
   "outputs": [],
   "source": [
    "while True:\n",
    "    light_level = board.analog[config.LDR].read()\n",
    "    print \"Reading from analog sensor: %s\" % light_level\n",
    "    board.pass_time(1)\n",
    "    "
   ]
  },
  {
   "cell_type": "code",
   "execution_count": null,
   "metadata": {},
   "outputs": [],
   "source": [
    "board.analog[config.Pot_1].enable_reporting()"
   ]
  },
  {
   "cell_type": "code",
   "execution_count": null,
   "metadata": {
    "scrolled": false
   },
   "outputs": [],
   "source": [
    "while True:\n",
    "    pot_level = (board.analog[config.Pot_1].read())\n",
    "#     print pot_level*1024\n",
    "    \n",
    "    print \"Reading from analog sensor: %s \\n\" % (pot_level)*1024\n",
    "    board.pass_time(1)\n",
    "    time.sleep(1)"
   ]
  }
 ],
 "metadata": {
  "kernelspec": {
   "display_name": "PhySyncEnv",
   "language": "python",
   "name": "physyncenv"
  },
  "language_info": {
   "codemirror_mode": {
    "name": "ipython",
    "version": 2
   },
   "file_extension": ".py",
   "mimetype": "text/x-python",
   "name": "python",
   "nbconvert_exporter": "python",
   "pygments_lexer": "ipython2",
   "version": "2.7.15+"
  }
 },
 "nbformat": 4,
 "nbformat_minor": 2
}
